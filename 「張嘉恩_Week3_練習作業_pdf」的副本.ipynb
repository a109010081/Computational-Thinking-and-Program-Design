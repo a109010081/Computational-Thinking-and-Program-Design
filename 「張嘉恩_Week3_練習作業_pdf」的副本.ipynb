{
  "nbformat": 4,
  "nbformat_minor": 0,
  "metadata": {
    "colab": {
      "name": "「張嘉恩-Week3-練習作業.pdf」的副本",
      "provenance": [],
      "authorship_tag": "ABX9TyN9gK8y5M16EgVPIafhJdTy",
      "include_colab_link": true
    },
    "kernelspec": {
      "name": "python3",
      "display_name": "Python 3"
    }
  },
  "cells": [
    {
      "cell_type": "markdown",
      "metadata": {
        "id": "view-in-github",
        "colab_type": "text"
      },
      "source": [
        "<a href=\"https://colab.research.google.com/github/a109010081/Computational-Thinking-and-Program-Design/blob/main/%E3%80%8C%E5%BC%B5%E5%98%89%E6%81%A9_Week3_%E7%B7%B4%E7%BF%92%E4%BD%9C%E6%A5%AD_pdf%E3%80%8D%E7%9A%84%E5%89%AF%E6%9C%AC.ipynb\" target=\"_parent\"><img src=\"https://colab.research.google.com/assets/colab-badge.svg\" alt=\"Open In Colab\"/></a>"
      ]
    },
    {
      "cell_type": "code",
      "metadata": {
        "id": "UXK4MCkwHNCo"
      },
      "source": [
        ""
      ],
      "execution_count": null,
      "outputs": []
    },
    {
      "cell_type": "markdown",
      "metadata": {
        "id": "pt_jqQFRHNrN"
      },
      "source": [
        "https://medium.com/dd-story-hub/p-%E5%AF%A6%E7%BF%92%E7%B6%93%E9%A9%97%E8%AB%87-%E6%96%B0%E8%81%9E%E7%B7%A8%E8%BC%AF%E7%82%BA%E4%BB%80%E9%BA%BC%E8%A6%81%E5%AD%B8%E7%A8%8B%E5%BC%8F%E8%A8%AD%E8%A8%88-bb375fc83bf6"
      ]
    },
    {
      "cell_type": "markdown",
      "metadata": {
        "id": "5JAFQ29mHaIv"
      },
      "source": [
        "在現今的資訊時代，即使當記者或編輯仍須接觸大量數據與資料。若能多方學習，增加技能，不只能加強自身的不可取代性，還能減少在製作專題時的的限制，讓編輯製作過程更加順暢。"
      ]
    }
  ]
}
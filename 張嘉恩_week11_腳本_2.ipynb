{
  "nbformat": 4,
  "nbformat_minor": 0,
  "metadata": {
    "colab": {
      "name": "張嘉恩_week11_腳本-2.ipynb",
      "provenance": [],
      "include_colab_link": true
    },
    "kernelspec": {
      "name": "python3",
      "display_name": "Python 3"
    },
    "language_info": {
      "name": "python"
    }
  },
  "cells": [
    {
      "cell_type": "markdown",
      "metadata": {
        "id": "view-in-github",
        "colab_type": "text"
      },
      "source": [
        "<a href=\"https://colab.research.google.com/github/a109010081/Computational-Thinking-and-Program-Design/blob/main/%E5%BC%B5%E5%98%89%E6%81%A9_week11_%E8%85%B3%E6%9C%AC_2.ipynb\" target=\"_parent\"><img src=\"https://colab.research.google.com/assets/colab-badge.svg\" alt=\"Open In Colab\"/></a>"
      ]
    },
    {
      "cell_type": "markdown",
      "metadata": {
        "id": "n6BKTQ-l0Vkr"
      },
      "source": [
        "组长：张轩绮\n",
        "\n",
        "组员：郭思綦\n",
        "\n",
        "  王婉渝\n",
        "\n",
        "  张嘉恩\n"
      ]
    },
    {
      "cell_type": "markdown",
      "metadata": {
        "id": "QP2YhZoP7Zzm"
      },
      "source": [
        "聊天机器人\n",
        "“你好，请问你叫什么名字？”\n",
        "\n",
        "“name，很高兴认识你！”\n",
        "\n",
        "“你今年几岁了？”\n",
        "\n",
        "“好巧，我也是~”\n",
        "\n",
        "“有对象吗？”\n",
        "\n",
        "“哇，这样真不错！”\n",
        "\n",
        "“你喜欢吃什么？”\n",
        "\n",
        "“我喜欢吃意大利面。”\n",
        "\n",
        "“你吃辣吗？”\n",
        "\n",
        "“我只爱吃甜的。”"
      ]
    },
    {
      "cell_type": "code",
      "metadata": {
        "id": "IUKfh5iV7wNj",
        "colab": {
          "base_uri": "https://localhost:8080/"
        },
        "outputId": "fcf28538-45b8-4925-93fc-c8635529b7e6"
      },
      "source": [
        "print(\"哈囉，大家好。我叫eva，是一個聊天機器人。\")\n",
        "print(f\"我喜歡到處吃美食!也喜歡玩各種遊戲~\")\n",
        "hello = \"很高興認識你們，請大家多多指教。\"\n",
        "print(hello)"
      ],
      "execution_count": null,
      "outputs": [
        {
          "output_type": "stream",
          "text": [
            "哈囉，大家好。我叫eva，是一個聊天機器人。\n",
            "我喜歡到處吃美食!也喜歡玩各種遊戲~\n",
            "很高興認識你們，請大家多多指教。\n"
          ],
          "name": "stdout"
        }
      ]
    },
    {
      "cell_type": "code",
      "metadata": {
        "colab": {
          "base_uri": "https://localhost:8080/"
        },
        "id": "irUlrglVPJBr",
        "outputId": "6e48d457-d4c3-4530-c604-9a7568680042"
      },
      "source": [
        "name = input(\"嗨！妳好，你叫什麼名字啊?：\")\n",
        "print(f\"{name}, 很高興認識你，我們一定可以成為很好的朋友!\")"
      ],
      "execution_count": null,
      "outputs": [
        {
          "output_type": "stream",
          "text": [
            "嗨！妳好，你叫什麼名字啊?：elle\n",
            "elle, 很高興認識你，我們一定可以成為很好的朋友\n"
          ],
          "name": "stdout"
        }
      ]
    },
    {
      "cell_type": "code",
      "metadata": {
        "colab": {
          "base_uri": "https://localhost:8080/"
        },
        "id": "8ibrCobMP6Xl",
        "outputId": "07510afe-331f-4e44-ae3d-5472b3b83cd4"
      },
      "source": [
        "age=input(\"你今年幾歲了啊?\")\n",
        "print(f\"{age}了啊!跟我一樣耶!太巧了\")"
      ],
      "execution_count": null,
      "outputs": [
        {
          "output_type": "stream",
          "text": [
            "你今年幾歲了啊?19\n",
            "19了啊!跟我一樣耶!太巧了\n"
          ],
          "name": "stdout"
        }
      ]
    },
    {
      "cell_type": "code",
      "metadata": {
        "colab": {
          "base_uri": "https://localhost:8080/"
        },
        "id": "KG7GZ9rAQbQv",
        "outputId": "7b75728d-629b-468c-d4b0-ea833071a13a"
      },
      "source": [
        "print(\"我們來玩猜數字吧\")\n",
        "num=int(input(\"1-10猜一個數字吧\"))\n",
        "if num>5:\n",
        "    print(\"猜錯啦!我的數字是5!比你猜的小一點呢!\")\n",
        "elif num<5:\n",
        "    print(\"猜錯啦!我的數字是5!比你猜的大一點呢!\")\n",
        "else:\n",
        "    print(\"猜對啦!答案就是數字5!\")"
      ],
      "execution_count": null,
      "outputs": [
        {
          "output_type": "stream",
          "text": [
            "我們來玩猜數字吧\n",
            "1-10猜一個數字吧7\n",
            "猜錯啦!我的數字是5!比你猜的小一點呢!\n"
          ],
          "name": "stdout"
        }
      ]
    },
    {
      "cell_type": "code",
      "metadata": {
        "colab": {
          "base_uri": "https://localhost:8080/"
        },
        "id": "ELbS79WQUL3G",
        "outputId": "8e9d17e6-8dd0-478b-9256-b9973696c188"
      },
      "source": [
        "print(\"明天的午餐我打算吃義大利麵!\")\n",
        "food=input(\"你要吃點什麼呢?\")\n",
        "print(f\"{food}!哇!聽起來真不錯!\")\n",
        "print(\"不過還是不要太常吃喔~讓我來幫你測一下BMI吧\")\n",
        "w=float(input('請輸入體重(KG)?'))\n",
        "h=float(input('請輸入身高(M)?'))\n",
        "bmi=w/(h*h)\n",
        "print('BMI為',bmi)\n",
        "if bmi<18:\n",
        "    print('體重太輕啦~要多吃點東西囉')\n",
        "elif bmi<24:\n",
        "    print('體重很正常!要繼續保持呀')\n",
        "elif bmi<27:\n",
        "    print('體重過重囉~要注意均衡飲食囉')\n",
        "else:\n",
        "    print('體重肥胖!要多控制飲食方面了!')"
      ],
      "execution_count": null,
      "outputs": [
        {
          "output_type": "stream",
          "text": [
            "明天的午餐我打算吃義大利麵!\n",
            "你要吃點什麼呢?pizza\n",
            "pizza!哇!聽起來真不錯!\n",
            "不過還是不要太常吃喔~讓我來幫你測一下BMI吧\n",
            "請輸入體重(KG)?80\n",
            "請輸入身高(M)?1.90\n",
            "BMI為 22.1606648199446\n",
            "體重很正常!要繼續保持呀\n"
          ],
          "name": "stdout"
        }
      ]
    },
    {
      "cell_type": "code",
      "metadata": {
        "colab": {
          "base_uri": "https://localhost:8080/"
        },
        "id": "WuS7PZXqVp9N",
        "outputId": "af7ed950-77ef-4929-f55c-f555c94ca333"
      },
      "source": [
        "print(\"我們再來玩個遊戲吧\")\n",
        "your = int(input(\"請出拳 [0] 剪刀 [1] 石頭 [2] 布\"))\n",
        "print(\"你出的是\", your)\n",
        "import random\n",
        "my= random.randint(0, 2)\n",
        "print(\"我出的是\", my)\n",
        "\n",
        "if your == 0:\n",
        "    if my == 0:\n",
        "        print('平手!我們真有默契')\n",
        "    elif my == 1:\n",
        "        print('我贏了!真不錯耶')\n",
        "    else:\n",
        "        print('你贏了!太棒啦!')\n",
        "elif your == 1:\n",
        "    if my == 0:\n",
        "        print('你贏了!太棒啦!')\n",
        "    elif my == 1:\n",
        "        print('平手!我們真有默契')\n",
        "    else:\n",
        "        print('我贏了!真不錯耶')\n",
        "else:\n",
        "    if my == 1:\n",
        "        print('我贏了!真不錯耶')\n",
        "    elif my == 2:\n",
        "        print('你贏了!太棒啦!')\n",
        "    else:\n",
        "        print('平手!我們真有默契')\n",
        "print(\"跟你玩的真開心!\")"
      ],
      "execution_count": null,
      "outputs": [
        {
          "output_type": "stream",
          "text": [
            "我們再來玩個遊戲吧\n",
            "請出拳 [0] 剪刀 [1] 石頭 [2] 布2\n",
            "你出的是 2\n",
            "我出的是 1\n",
            "我贏了!真不錯耶\n",
            "跟你玩的真開心!\n"
          ],
          "name": "stdout"
        }
      ]
    },
    {
      "cell_type": "code",
      "metadata": {
        "colab": {
          "base_uri": "https://localhost:8080/"
        },
        "id": "VjWWKeD6aSTY",
        "outputId": "919471fd-63b8-4f68-9f2a-f6c7e753949b"
      },
      "source": [
        "print(\"祝你周末愉快!\")\n",
        "print(\"我喜歡跟你聊天，現在有點累了，下次再聊!\")\n",
        "print(\"再見，\", name, \"。我喜歡跟你聊天!\")"
      ],
      "execution_count": null,
      "outputs": [
        {
          "output_type": "stream",
          "text": [
            "祝你周末愉快!\n",
            "我喜歡跟你聊天，現在有點累了，下次再聊!\n",
            "再見， elle 。我喜歡跟你聊天!\n"
          ],
          "name": "stdout"
        }
      ]
    },
    {
      "cell_type": "code",
      "metadata": {
        "id": "NUjk33LycFUb"
      },
      "source": [
        ""
      ],
      "execution_count": null,
      "outputs": []
    }
  ]
}